{
 "metadata": {
  "language_info": {
   "codemirror_mode": {
    "name": "ipython",
    "version": 3
   },
   "file_extension": ".py",
   "mimetype": "text/x-python",
   "name": "python",
   "nbconvert_exporter": "python",
   "pygments_lexer": "ipython3",
   "version": "3.8.3-final"
  },
  "orig_nbformat": 2,
  "kernelspec": {
   "name": "python3",
   "display_name": "Python 3.8.3 64-bit",
   "metadata": {
    "interpreter": {
     "hash": "aee8b7b246df8f9039afb4144a1f6fd8d2ca17a180786b69acc140d282b71a49"
    }
   }
  }
 },
 "nbformat": 4,
 "nbformat_minor": 2,
 "cells": [
  {
   "cell_type": "code",
   "execution_count": 1,
   "metadata": {},
   "outputs": [],
   "source": [
    "\n",
    "'''\n",
    "Read an excel file from the same directory\n",
    "Return a list of panda frames, each panda frame is a sheet of this excel file\n",
    "'''\n",
    "def read_uat_result(file_name='sample.xlsx'):\n",
    "    import pandas as pd\n",
    "    import os\n",
    "\n",
    "    dir_path = os.path.dirname(os.path.realpath(\"__file__\"))\n",
    "    file_path = os.path.join(dir_path, file_name)\n",
    "    \n",
    "    xlsx = pd.ExcelFile(file_path)\n",
    "\n",
    "    return [xlsx.parse(s) for s in xlsx.sheet_names]"
   ]
  },
  {
   "cell_type": "code",
   "execution_count": 4,
   "metadata": {},
   "outputs": [
    {
     "output_type": "execute_result",
     "data": {
      "text/plain": [
       "3"
      ]
     },
     "metadata": {},
     "execution_count": 4
    }
   ],
   "source": [
    "sample2_file = read_uat_result('sample2.xlsx')\n",
    "num_of_sheets = len(sample2_file)\n",
    "num_of_sheets"
   ]
  },
  {
   "cell_type": "code",
   "execution_count": 5,
   "metadata": {},
   "outputs": [
    {
     "output_type": "execute_result",
     "data": {
      "text/plain": [
       "   Case Number  Page Number AUDIO VISION    LAB IMAGING PSYCHOLOGICAL  MISC  \\\n",
       "0    1234156.1            3  PASS    NaN    NaN     NaN           NaN   NaN   \n",
       "1    1234156.1            4   NaN  NFAIL    NaN     NaN           NaN   NaN   \n",
       "2    1234156.1            5   NaN    NaN  MFAIL     NaN           NaN   NaN   \n",
       "3    1234156.1            6   NaN    NaN    NaN   MFAIL           NaN   NaN   \n",
       "4    1234156.1            7   NaN    NaN    NaN     NaN         NFAIL   NaN   \n",
       "\n",
       "   NOTE  \n",
       "0   NaN  \n",
       "1   NaN  \n",
       "2   NaN  \n",
       "3   NaN  \n",
       "4   NaN  "
      ],
      "text/html": "<div>\n<style scoped>\n    .dataframe tbody tr th:only-of-type {\n        vertical-align: middle;\n    }\n\n    .dataframe tbody tr th {\n        vertical-align: top;\n    }\n\n    .dataframe thead th {\n        text-align: right;\n    }\n</style>\n<table border=\"1\" class=\"dataframe\">\n  <thead>\n    <tr style=\"text-align: right;\">\n      <th></th>\n      <th>Case Number</th>\n      <th>Page Number</th>\n      <th>AUDIO</th>\n      <th>VISION</th>\n      <th>LAB</th>\n      <th>IMAGING</th>\n      <th>PSYCHOLOGICAL</th>\n      <th>MISC</th>\n      <th>NOTE</th>\n    </tr>\n  </thead>\n  <tbody>\n    <tr>\n      <th>0</th>\n      <td>1234156.1</td>\n      <td>3</td>\n      <td>PASS</td>\n      <td>NaN</td>\n      <td>NaN</td>\n      <td>NaN</td>\n      <td>NaN</td>\n      <td>NaN</td>\n      <td>NaN</td>\n    </tr>\n    <tr>\n      <th>1</th>\n      <td>1234156.1</td>\n      <td>4</td>\n      <td>NaN</td>\n      <td>NFAIL</td>\n      <td>NaN</td>\n      <td>NaN</td>\n      <td>NaN</td>\n      <td>NaN</td>\n      <td>NaN</td>\n    </tr>\n    <tr>\n      <th>2</th>\n      <td>1234156.1</td>\n      <td>5</td>\n      <td>NaN</td>\n      <td>NaN</td>\n      <td>MFAIL</td>\n      <td>NaN</td>\n      <td>NaN</td>\n      <td>NaN</td>\n      <td>NaN</td>\n    </tr>\n    <tr>\n      <th>3</th>\n      <td>1234156.1</td>\n      <td>6</td>\n      <td>NaN</td>\n      <td>NaN</td>\n      <td>NaN</td>\n      <td>MFAIL</td>\n      <td>NaN</td>\n      <td>NaN</td>\n      <td>NaN</td>\n    </tr>\n    <tr>\n      <th>4</th>\n      <td>1234156.1</td>\n      <td>7</td>\n      <td>NaN</td>\n      <td>NaN</td>\n      <td>NaN</td>\n      <td>NaN</td>\n      <td>NFAIL</td>\n      <td>NaN</td>\n      <td>NaN</td>\n    </tr>\n  </tbody>\n</table>\n</div>"
     },
     "metadata": {},
     "execution_count": 5
    }
   ],
   "source": [
    "sheet1 = sample2_file[0]\n",
    "sheet1[:5]"
   ]
  },
  {
   "cell_type": "code",
   "execution_count": 6,
   "metadata": {},
   "outputs": [
    {
     "output_type": "execute_result",
     "data": {
      "text/plain": [
       "0      PASS\n",
       "1       NaN\n",
       "2       NaN\n",
       "3       NaN\n",
       "4       NaN\n",
       "5       NaN\n",
       "6       NaN\n",
       "7     MFAIL\n",
       "8       NaN\n",
       "9       NaN\n",
       "10      NaN\n",
       "11      NaN\n",
       "12      NaN\n",
       "13      NaN\n",
       "14      NaN\n",
       "15      NaN\n",
       "16      NaN\n",
       "17      NaN\n",
       "18      NaN\n",
       "19      NaN\n",
       "Name: AUDIO, dtype: object"
      ]
     },
     "metadata": {},
     "execution_count": 6
    }
   ],
   "source": [
    "sheet1['AUDIO']"
   ]
  },
  {
   "cell_type": "code",
   "execution_count": null,
   "metadata": {},
   "outputs": [],
   "source": []
  }
 ]
}